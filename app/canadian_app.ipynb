{
 "cells": [
  {
   "cell_type": "code",
   "execution_count": 85,
   "metadata": {},
   "outputs": [],
   "source": [
    "import ipywidgets as widgets\n",
    "import pickle\n",
    "import plotly.express as px\n",
    "import plotly.graph_objs as go"
   ]
  },
  {
   "cell_type": "code",
   "execution_count": 86,
   "metadata": {},
   "outputs": [],
   "source": [
    "info = pickle.load(open('data.sav', 'rb'))"
   ]
  },
  {
   "cell_type": "code",
   "execution_count": 87,
   "metadata": {},
   "outputs": [],
   "source": [
    "title_html = \"\"\"\n",
    "<link rel=\"stylesheet\" href=\"https://stackpath.bootstrapcdn.com/bootstrap/4.5.2/css/bootstrap.min.css\" integrity=\"sha384-JcKb8q3iqJ61gNV9KGb8thSsNjpSL0n8PARn9HuZOnIxN0hoP+VmmDGMN5t9UJ0Z\" crossorigin=\"anonymous\">\n",
    "\n",
    "<h1>CI Canadian All Cap Equity</h1>\n",
    "\"\"\""
   ]
  },
  {
   "cell_type": "code",
   "execution_count": 88,
   "metadata": {},
   "outputs": [],
   "source": [
    "diagnosis_title = \"\"\"\n",
    "<h3>Diagnosis</h3>\n",
    "\"\"\"\n",
    "\n",
    "diagnosis_text = \"\"\"\n",
    "<p>The CI Canadian All Cap Equity fund appears to be performing poorly in recent months. The is best evidenced by the total return figures relative to the index and category as provided by Morningstar below.</p>\n",
    "<img src=\"images/recent_performance.png\" alt=\"Recent total returns\">\n",
    "<p>We can see an underperformance of 360, 1,280, and 1,330 basis points across the 3 month, YTD and 1 year time frames respectively relative to the index.</p>\n",
    "<p>We can also observe liquidity issues as seen in the negative investment flows of over 315 million that appear to have taken place relatively recently. This is likely a symptom of the poor performance outlined above but may have consequences regarding capital deployment as excess cash on hand would be required to meet redemptions. Keeping this excess cash on hand will provide a drag on investment results.</p>\n",
    "<img src=\"images/liquidity.png\" alt=\"Redemptions\">\n",
    "\"\"\"\n",
    "\n",
    "diagnosis_section = [widgets.HTML(diagnosis_title), widgets.HTML(diagnosis_text)]"
   ]
  },
  {
   "cell_type": "code",
   "execution_count": 89,
   "metadata": {},
   "outputs": [],
   "source": [
    "analysis_title  = \"\"\"\n",
    "<h3>Analysis</h3>\n",
    "\"\"\"\n",
    "\n",
    "sec_overconcentration_title = \"\"\"\n",
    "<h5>Security Overconcentration</h5>\n",
    "\"\"\"\n",
    "\n",
    "sec_overconcentration_section = \"\"\"\n",
    "<p>Looking at the top 10 holdings by weight nothing stands out as being severely overconcentrated (>5&#37 fund value) however this may not be true when compared to the benchmark. Without benchmark and universe info however, we have no context as to individual security overconcentration.</p>\n",
    "\"\"\"\n",
    "\n",
    "top_holdings = widgets.Output()\n",
    "with top_holdings:\n",
    "    data = go.Bar(\n",
    "        x=info['top_holding_df']['weight'], \n",
    "        y=info['top_holding_df']['Symbol']\n",
    "    )\n",
    "    layout = go.Layout(\n",
    "        xaxis=dict(title='Weight'), \n",
    "        yaxis=dict(title='Symbol')\n",
    "    )\n",
    "    fig = go.Figure(data=data, layout=layout)\n",
    "    fig.show()\n",
    "\n",
    "analysis_section = [\n",
    "    widgets.HTML(analysis_title), \n",
    "    widgets.HTML(sec_overconcentration_title), \n",
    "    widgets.HTML(sec_overconcentration_section),\n",
    "    top_holdings\n",
    "]"
   ]
  },
  {
   "cell_type": "code",
   "execution_count": 90,
   "metadata": {},
   "outputs": [],
   "source": [
    "app_contents = [\n",
    "    widgets.HTML(title_html),\n",
    "    widgets.VBox(diagnosis_section),\n",
    "    widgets.VBox(analysis_section),\n",
    "]\n",
    "app = widgets.VBox(app_contents)"
   ]
  },
  {
   "cell_type": "markdown",
   "metadata": {},
   "source": [
    "app = widgets.VBox(app_contents)"
   ]
  },
  {
   "cell_type": "code",
   "execution_count": 91,
   "metadata": {},
   "outputs": [
    {
     "data": {
      "application/vnd.jupyter.widget-view+json": {
       "model_id": "530f6680a0904f6fb88e863ec93abf01",
       "version_major": 2,
       "version_minor": 0
      },
      "text/plain": [
       "VBox(children=(HTML(value='\\n<link rel=\"stylesheet\" href=\"https://stackpath.bootstrapcdn.com/bootstrap/4.5.2/c…"
      ]
     },
     "metadata": {},
     "output_type": "display_data"
    }
   ],
   "source": [
    "\n",
    "display(app)"
   ]
  }
 ],
 "metadata": {
  "interpreter": {
   "hash": "76a3ac82620c933fa13278a3b53dc46996c8c49d83a071bfc7e819534b7db0b7"
  },
  "kernelspec": {
   "display_name": "Python 3.10.4 ('ci')",
   "language": "python",
   "name": "python3"
  },
  "language_info": {
   "codemirror_mode": {
    "name": "ipython",
    "version": 3
   },
   "file_extension": ".py",
   "mimetype": "text/x-python",
   "name": "python",
   "nbconvert_exporter": "python",
   "pygments_lexer": "ipython3",
   "version": "3.10.4"
  },
  "orig_nbformat": 4
 },
 "nbformat": 4,
 "nbformat_minor": 2
}
