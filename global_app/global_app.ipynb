{
 "cells": [
  {
   "cell_type": "code",
   "execution_count": null,
   "metadata": {},
   "outputs": [],
   "source": [
    "import ipywidgets as widgets\n",
    "import pickle\n",
    "import plotly.express as px\n",
    "import plotly.graph_objs as go"
   ]
  },
  {
   "cell_type": "code",
   "execution_count": null,
   "metadata": {},
   "outputs": [],
   "source": [
    "sav = pickle.load(open('global_data.sav', 'rb'))"
   ]
  },
  {
   "cell_type": "code",
   "execution_count": null,
   "metadata": {},
   "outputs": [],
   "source": [
    "title_html = \"\"\"\n",
    "<link rel=\"stylesheet\" href=\"https://stackpath.bootstrapcdn.com/bootstrap/4.5.2/css/bootstrap.min.css\" integrity=\"sha384-JcKb8q3iqJ61gNV9KGb8thSsNjpSL0n8PARn9HuZOnIxN0hoP+VmmDGMN5t9UJ0Z\" crossorigin=\"anonymous\">\n",
    "\n",
    "<h1>CI Select Global Equity</h1>\n",
    "\"\"\""
   ]
  },
  {
   "cell_type": "code",
   "execution_count": null,
   "metadata": {},
   "outputs": [],
   "source": [
    "diagnosis_title = \"\"\"\n",
    "<h3>Diagnosis</h3>\n",
    "\"\"\"\n",
    "\n",
    "diagnosis_text = \"\"\"\n",
    "<p>The CI Select Global Equity fund appears to be performing quite well. Recent performance has exceeded that of that of category and index comparables. Although it appears as though the whole market is in a slump, this fund has managed to outperform most others.</p>\n",
    "<img src=\"global_images/recent_performance.png\" alt=\"Recent total returns\">\n",
    "<p>The fund also appears to have healthy recent investment inflows as evidenced by the graphic below.</p>\n",
    "<img src=\"global_images/global_flows.png\" alt=\"Investment flows\">\n",
    "<p>Risk appears to be in line with comparables and is acceptable given the fund's larger alpha and stronger sharpe ratio.</p>\n",
    "<img src=\"global_images/risk.png\" alt=\"Risk measures\">\n",
    "\"\"\"\n",
    "\n",
    "diagnosis = [widgets.HTML(diagnosis_title), widgets.HTML(diagnosis_text)]"
   ]
  },
  {
   "cell_type": "code",
   "execution_count": null,
   "metadata": {},
   "outputs": [],
   "source": [
    "analysis_title = \"\"\"\n",
    "<h3>Analysis</h3>\n",
    "\"\"\""
   ]
  },
  {
   "cell_type": "code",
   "execution_count": null,
   "metadata": {},
   "outputs": [],
   "source": [
    "sec_overconcentration_title = \"\"\"\n",
    "<h5>Security Overconcentration</h5>\n",
    "\"\"\"\n",
    "\n",
    "sec_overconcentration_text = \"\"\"\n",
    "<p>We can look at the top 10 holdings of the fund to see if there are any particularly large holdings in a single stock.</p>\n",
    "\"\"\"\n",
    "\n",
    "top_holdings = widgets.Output()\n",
    "with top_holdings:\n",
    "    data = go.Bar(\n",
    "        x=sav['top_holding_df']['Symbol'], \n",
    "        y=sav['top_holding_df']['weight']\n",
    "    )\n",
    "    layout = go.Layout(\n",
    "        xaxis=dict(title='Symbol'), \n",
    "        yaxis=dict(title='Weight', tickformat= '.1%'),\n",
    "    )\n",
    "    fig = go.Figure(data=data, layout=layout)\n",
    "    fig.show()\n",
    "\n",
    "sec_overconcentration_text2 = \"\"\"\n",
    "<p>None of the fund holdings appear to have a large concentration (>5&#37) independent of the fund's benchmark and further analysis relative to the benchmark would require that benchmark's constituent data. The fund may have a large allocation to technology that we should look out for in the equity sector concentration.</p>\n",
    "\"\"\"\n",
    "\n",
    "sec_overconcentration = [\n",
    "    widgets.HTML(sec_overconcentration_title), \n",
    "    widgets.HTML(sec_overconcentration_text),\n",
    "    top_holdings,\n",
    "    widgets.HTML(sec_overconcentration_text2),\n",
    "]"
   ]
  },
  {
   "cell_type": "code",
   "execution_count": null,
   "metadata": {},
   "outputs": [],
   "source": [
    "alloc_title = \"\"\"\n",
    "<h5>Asset Allocation</h5>\n",
    "\"\"\"\n",
    "\n",
    "alloc_text = \"\"\"\n",
    "<p>The fund appears to have an asset allocation similar to comparables with nothing standing out as especially out of place. It may be worthwhile breaking down international equity into regoin or country specifics however without benchmark data or an issue with fund performance it would be gratuitous at this time.</p>\n",
    "<img src=\"global_images/alloc.png\" alt=\"Asset allocation\">\n",
    "\"\"\"\n",
    "\n",
    "alloc = [widgets.HTML(alloc_title), widgets.HTML(alloc_text)]"
   ]
  },
  {
   "cell_type": "code",
   "execution_count": null,
   "metadata": {},
   "outputs": [],
   "source": [
    "factor_title = \"\"\"\n",
    "<h5>Style Factors</h5>\n",
    "\"\"\"\n",
    "\n",
    "factor_text = \"\"\"\n",
    "<p>Style factors also appear reasonable with some minor tilts that likely contributed to the fund's strong performance. Growth/value split appears to be consistent with comparables. Additional analysis could be conducted with constituent factor exposure and factor returns.</p>\n",
    "<img src=\"global_images/factors.png\" alt=\"Style factors\">\n",
    "\"\"\"\n",
    "\n",
    "factors = [widgets.HTML(factor_title), widgets.HTML(factor_text)]"
   ]
  },
  {
   "cell_type": "code",
   "execution_count": null,
   "metadata": {},
   "outputs": [],
   "source": [
    "sector_title = \"\"\"\n",
    "<h5>Equity Sectors</h5>\n",
    "\"\"\"\n",
    "\n",
    "sector_text = \"\"\"\n",
    "<p>Equity sectors are near category averages. The largest over allocation is to technology at 3.00&#37 and the largest under allocation is consumer cyclicals at -3.50&#37. We can examine if this tilt is benefitial or to the detriment of the fund using proxies. We will use the Vanguard Information Technology Index and Vanguard Consumer Discretionary Index as proxies.</p>\n",
    "<img src=\"global_images/sectors.png\" alt=\"Equity Sectors\">\n",
    "\"\"\"\n",
    "\n",
    "sector_comp = widgets.Output()\n",
    "with sector_comp:\n",
    "    data = go.Scatter(\n",
    "        x = sav['sector_diff_df']['Date'], \n",
    "        y = sav['sector_diff_df']['tech-cons'],\n",
    "        mode = 'lines',\n",
    "    )\n",
    "    layout = go.Layout(\n",
    "        title=dict(\n",
    "            text='Technology - Consumer Discretionary Sector Cumulative Returns',\n",
    "        ),\n",
    "        yaxis=dict(\n",
    "            tickformat= '.1%',\n",
    "        ),\n",
    "    )\n",
    "    fig = go.Figure(data=data, layout=layout)\n",
    "    fig.show()\n",
    "\n",
    "sector_text2 = \"\"\"\n",
    "<p>From the proxy data it appears as though this equity sector tilt has improved return and has contributed to the fund's strong performance.</p>\n",
    "\"\"\"\n",
    "\n",
    "sectors = [\n",
    "    widgets.HTML(sector_title), \n",
    "    widgets.HTML(sector_text),\n",
    "    sector_comp,\n",
    "    widgets.HTML(sector_text2),\n",
    "]"
   ]
  },
  {
   "cell_type": "code",
   "execution_count": null,
   "metadata": {},
   "outputs": [],
   "source": [
    "conclusion_title = \"\"\"\n",
    "<h3>Conclusion</h3>\n",
    "\"\"\"\n",
    "\n",
    "conclusion_section = \"\"\"\n",
    "<p>From the superficial analysis performed this appears to be a strong fund. No glaring issues are apparent and the fund seems to be performing well compared the the index provided by Morningstar and the comparables it is grouped with. Additional analysis could be performed with benchmark data and factor exposures and returns for the model. No recommendations are provided at this time.</p>\n",
    "<p><i>Note: Nothing in this report constitutes financial advice. Analysis should only be considered as a springboard for further research and investigation only. Info is presented without warranty or consideration of correctness.</i></p>\n",
    "\"\"\"\n",
    "\n",
    "conclusion = [\n",
    "    widgets.HTML(conclusion_title),\n",
    "    widgets.HTML(conclusion_section),\n",
    "]"
   ]
  },
  {
   "cell_type": "code",
   "execution_count": null,
   "metadata": {},
   "outputs": [],
   "source": [
    "app_contents = [\n",
    "    widgets.HTML(title_html),\n",
    "    widgets.VBox(diagnosis),\n",
    "    widgets.HTML(analysis_title),\n",
    "    widgets.VBox(sec_overconcentration),\n",
    "    widgets.VBox(alloc),\n",
    "    widgets.VBox(factors),\n",
    "    widgets.VBox(sectors),\n",
    "    widgets.VBox(conclusion),\n",
    "]\n",
    "app = widgets.VBox(app_contents)"
   ]
  },
  {
   "cell_type": "code",
   "execution_count": null,
   "metadata": {},
   "outputs": [],
   "source": [
    "display(app)"
   ]
  }
 ],
 "metadata": {
  "language_info": {
   "name": "python"
  },
  "orig_nbformat": 4
 },
 "nbformat": 4,
 "nbformat_minor": 2
}
